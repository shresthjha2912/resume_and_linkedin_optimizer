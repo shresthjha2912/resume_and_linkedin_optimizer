{
 "cells": [
  {
   "cell_type": "code",
   "execution_count": 67,
   "metadata": {},
   "outputs": [],
   "source": [
    "from PyPDF2 import PdfReader\n",
    "from langchain.text_splitter import RecursiveCharacterTextSplitter\n",
    "from langchain.embeddings.openai import OpenAIEmbeddings\n",
    "from langchain.vectorstores import FAISS\n",
    "from langchain.chat_models import ChatOpenAI\n",
    "from langchain.chains.question_answering import load_qa_chain\n",
    "import warnings\n",
    "warnings.filterwarnings('ignore')"
   ]
  },
  {
   "cell_type": "code",
   "execution_count": 62,
   "metadata": {},
   "outputs": [
    {
     "name": "stdout",
     "output_type": "stream",
     "text": [
      "<PyPDF2._reader.PdfReader object at 0x00000154154007D0>\n"
     ]
    }
   ],
   "source": [
    "pdf = \"/content/resume.pdf\"\n",
    "pdf_reader = PdfReader(pdf)\n",
    "print(pdf_reader)"
   ]
  },
  {
   "cell_type": "code",
   "execution_count": 63,
   "metadata": {},
   "outputs": [
    {
     "name": "stdout",
     "output_type": "stream",
     "text": [
      "GOPINATH ASOKAN \n",
      "Data Science Enthusiast \n",
      "Passionate data science enthusiast with a strong foundation in diverse industries. Equipped with 5+ years\n",
      "of industry experience, highly skilled in problem-solving, and project management. Eager to seamlessly\n",
      "merge analytical skills with artistic expertise for impactful insights and innovation. Excited to apply data-\n",
      "driven strategies to challenges, contribute proactively and eﬀectively to the ﬁeld, and drive innovation. \n",
      "gopiashokankiot@gmail.com \n",
      "linkedin.com/in/gopiashokan \n",
      "github.com/gopiashokan \n",
      "WORK EXPERIENCE \n",
      "Senior Process Executive - Operations \n",
      "Mahendra Next Wealth IT India Pvt Ltd \n",
      "05/2019 - 12/2022\n",
      ", \n",
      " \n",
      "Namakkal \n",
      "Proﬁciently executed image editing tasks for bigbasket's\n",
      "product images, encompassing renaming, retouching, \n",
      "color\n",
      "correction, content cropping, and photo manipulation. \n",
      "Expertly designed captivating banners and creatives for\n",
      "advertisements, skillfully integrating combo packs, multi-\n",
      "packs, and hero images into Bigbasket's product pages. \n",
      "Contributed to taxonomy by mapping tax codes, manually\n",
      "identiﬁed competitor products, and veriﬁed AI-generated\n",
      "outputs for accuracy, assisting in AI improvement eﬀorts. \n",
      "Associate Engineer - Quality \n",
      "Rudra Blades and Edges Pvt Ltd \n",
      "07/2018 - 12/2018\n",
      ", \n",
      " \n",
      "Chennai \n",
      "Performed continuous and comprehensive material analysis\n",
      "to ensure structural integrity and precise alignment with\n",
      "customer speciﬁcations as maintaining quality standards. \n",
      "Consistently maintained high quality standards at critical\n",
      "welding, grinding, and precision parallelism stations, by\n",
      "ensuring unwavering quality in the production process. \n",
      "Proﬁciently managed and coordinated material dispatch\n",
      "while meeting both regular order requirements and the\n",
      "priority to ensure prompt and reliable customer service. \n",
      "Graduate Engineer Trainee - Quality \n",
      "Lear Automotive India Pvt Ltd \n",
      "07/2016 - 07/2017\n",
      ", \n",
      " \n",
      "Chennai \n",
      "Eﬃciently managed productive customer meetings while\n",
      "skillfully addressing challenging issues through \n",
      "detailed\n",
      "comprehensive Minutes of Meeting documentation. \n",
      "Maintained stock alignment, meticulously validating the\n",
      "perpetual and wall-to-wall inventory in physical and QAD\n",
      "software systems to ensure inventory precision & accuracy. \n",
      "Implemented Q-Point, ICA, & PCA for quality enhancement\n",
      "and has managed up-to-date Quality Notice documentation\n",
      "with 8D reports in the SQTS system for the issue resolution. \n",
      "EDUCATION \n",
      "Master Data Science \n",
      "GUVI Geeks Network Pvt Ltd \n",
      "2023\n",
      ", \n",
      " \n",
      "Chennai \n",
      "B.E. in Mechanical Engineering \n",
      "Knowledge Institute of Technology \n",
      "2012 - 2016\n",
      ", \n",
      " \n",
      "Salem \n",
      "SKILLS \n",
      "Python \n",
      "PostgreSQL \n",
      "MongoDB \n",
      "Tableau \n",
      "PowerBI \n",
      "Machine Learning \n",
      "Deep Learning \n",
      "NLP \n",
      "LLM \n",
      "OpenAI \n",
      "Selenium \n",
      "Airﬂow \n",
      "Hadoop \n",
      "PySpark \n",
      "OCR \n",
      "Numpy \n",
      "Pandas \n",
      "Streamlit \n",
      "Plotly \n",
      "Matplotlib \n",
      "Seaborn \n",
      "CERTIFICATE \n",
      "Microsoft AI-900 Azure AI Fundamentals\n",
      " (2023)\n",
      " \n",
      "PROJECTS \n",
      "AI Resume Analyzer and LinkedIn Scraper with Selenium \n",
      "Built an \n",
      "Innovative \n",
      "AI-driven Streamlit app with LLM, OpenAI for\n",
      "precise resume analysis and suggestions. Integrated Selenium for\n",
      "dynamic LinkedIn data extraction, enhancing career insights. \n",
      "AI excels in resume analysis - summarizing, strengths, weaknesses,\n",
      "and suggesting job titles. Leveraging Selenium for LinkedIn data, it\n",
      "streamlines job searches for comprehensive career insights. \n",
      "Tools: Python, LLM, OpenAI, Selenium, Streamlit, Numpy, Pandas.\n",
      " \n",
      "github.com/gopiashokan/AI-Resume-Analyzer-LinkedIn-Scraper.git\n",
      " \n",
      "Retail Sales Forecast \n",
      "Implemented ML for precise retail sales predictions, emphasizing\n",
      "preprocessing and algorithm selection. Streamlined Streamlit app\n",
      "integrates EDA, \n",
      "optimizing decision-making in dynamic retail. \n",
      "Revolutionized retail decisions with advanced ML, using a streamlit\n",
      "application integrating EDA for precise sales forecasts, \n",
      "feature\n",
      "comparison & actionable insights by identifying trends & patterns. \n",
      "Tools: Python, \n",
      "sklearn, PostgreSQL, Streamlit, Numpy, Pandas, Plotly,\n",
      "Matplotlib, Seaborn.\n",
      " \n",
      "https://github.com/gopiashokan/Retail-Sales-Forecast.git\n",
      " \n",
      "Industrial Copper Modeling \n",
      "Leveraged advanced ML regression models for precise pricing and\n",
      "classiﬁcation, enhancing targeted customer engagement by\n",
      "predicting potential customers in the copper industry landscape. \n",
      "Expert in data preprocessing, feature engineering, cross-validation,\n",
      "hyperparameter tuning, and Streamlit app development, \n",
      "skillfully\n",
      "applying the skills to solve real-world manufacturing challenges. \n",
      "Tools: Python, sklearn, Streamlit, Matplotlib,Seaborn, Numpy,Pandas.\n",
      " \n",
      "github.com/gopiashokan/Industrial-Copper-Modeling.git\n",
      " \n",
      "Airbnb Analysis \n",
      "Leverage Streamlit for dynamic exploratory data analysis (EDA)\n",
      "with interactive charts. Extend insights through a comprehensive\n",
      "Tableau dashboard, uncovering trends and patterns in the dataset. \n",
      "Analyzed pricing dynamics & availability patterns in the Hospitality\n",
      "sector, enabling informed decision-making and empowering\n",
      "stakeholders to make choices based on insights and visualizations. \n",
      "Tools: Python, MongoDB, PostgreSQL, Tableau, Streamlit, Plotly,\n",
      "Pandas.\n",
      " \n",
      "github.com/gopiashokan/Airbnb-Analysis.git\n",
      " \n",
      "\n"
     ]
    }
   ],
   "source": [
    "# extrat text from each page separately\n",
    "text = \"\"\n",
    "for page in pdf_reader.pages:\n",
    "    text += page.extract_text()\n",
    "\n",
    "print(text)"
   ]
  },
  {
   "cell_type": "code",
   "execution_count": 64,
   "metadata": {},
   "outputs": [
    {
     "data": {
      "text/plain": [
       "['GOPINATH ASOKAN \\nData Science Enthusiast \\nPassionate data science enthusiast with a strong foundation in diverse industries. Equipped with 5+ years\\nof industry experience, highly skilled in problem-solving, and project management. Eager to seamlessly\\nmerge analytical skills with artistic expertise for impactful insights and innovation. Excited to apply data-\\ndriven strategies to challenges, contribute proactively and eﬀectively to the ﬁeld, and drive innovation. \\ngopiashokankiot@gmail.com \\nlinkedin.com/in/gopiashokan \\ngithub.com/gopiashokan \\nWORK EXPERIENCE \\nSenior Process Executive - Operations \\nMahendra Next Wealth IT India Pvt Ltd \\n05/2019 - 12/2022\\n, \\n \\nNamakkal',\n",
       " \"linkedin.com/in/gopiashokan \\ngithub.com/gopiashokan \\nWORK EXPERIENCE \\nSenior Process Executive - Operations \\nMahendra Next Wealth IT India Pvt Ltd \\n05/2019 - 12/2022\\n, \\n \\nNamakkal \\nProﬁciently executed image editing tasks for bigbasket's\\nproduct images, encompassing renaming, retouching, \\ncolor\\ncorrection, content cropping, and photo manipulation. \\nExpertly designed captivating banners and creatives for\\nadvertisements, skillfully integrating combo packs, multi-\\npacks, and hero images into Bigbasket's product pages. \\nContributed to taxonomy by mapping tax codes, manually\\nidentiﬁed competitor products, and veriﬁed AI-generated\\noutputs for accuracy, assisting in AI improvement eﬀorts.\",\n",
       " 'Contributed to taxonomy by mapping tax codes, manually\\nidentiﬁed competitor products, and veriﬁed AI-generated\\noutputs for accuracy, assisting in AI improvement eﬀorts. \\nAssociate Engineer - Quality \\nRudra Blades and Edges Pvt Ltd \\n07/2018 - 12/2018\\n, \\n \\nChennai \\nPerformed continuous and comprehensive material analysis\\nto ensure structural integrity and precise alignment with\\ncustomer speciﬁcations as maintaining quality standards. \\nConsistently maintained high quality standards at critical\\nwelding, grinding, and precision parallelism stations, by\\nensuring unwavering quality in the production process. \\nProﬁciently managed and coordinated material dispatch',\n",
       " 'welding, grinding, and precision parallelism stations, by\\nensuring unwavering quality in the production process. \\nProﬁciently managed and coordinated material dispatch\\nwhile meeting both regular order requirements and the\\npriority to ensure prompt and reliable customer service. \\nGraduate Engineer Trainee - Quality \\nLear Automotive India Pvt Ltd \\n07/2016 - 07/2017\\n, \\n \\nChennai \\nEﬃciently managed productive customer meetings while\\nskillfully addressing challenging issues through \\ndetailed\\ncomprehensive Minutes of Meeting documentation. \\nMaintained stock alignment, meticulously validating the\\nperpetual and wall-to-wall inventory in physical and QAD',\n",
       " 'detailed\\ncomprehensive Minutes of Meeting documentation. \\nMaintained stock alignment, meticulously validating the\\nperpetual and wall-to-wall inventory in physical and QAD\\nsoftware systems to ensure inventory precision & accuracy. \\nImplemented Q-Point, ICA, & PCA for quality enhancement\\nand has managed up-to-date Quality Notice documentation\\nwith 8D reports in the SQTS system for the issue resolution. \\nEDUCATION \\nMaster Data Science \\nGUVI Geeks Network Pvt Ltd \\n2023\\n, \\n \\nChennai \\nB.E. in Mechanical Engineering \\nKnowledge Institute of Technology \\n2012 - 2016\\n, \\n \\nSalem \\nSKILLS \\nPython \\nPostgreSQL \\nMongoDB \\nTableau \\nPowerBI \\nMachine Learning \\nDeep Learning \\nNLP \\nLLM \\nOpenAI \\nSelenium \\nAirﬂow',\n",
       " 'Knowledge Institute of Technology \\n2012 - 2016\\n, \\n \\nSalem \\nSKILLS \\nPython \\nPostgreSQL \\nMongoDB \\nTableau \\nPowerBI \\nMachine Learning \\nDeep Learning \\nNLP \\nLLM \\nOpenAI \\nSelenium \\nAirﬂow \\nHadoop \\nPySpark \\nOCR \\nNumpy \\nPandas \\nStreamlit \\nPlotly \\nMatplotlib \\nSeaborn \\nCERTIFICATE \\nMicrosoft AI-900 Azure AI Fundamentals\\n (2023)\\n \\nPROJECTS \\nAI Resume Analyzer and LinkedIn Scraper with Selenium \\nBuilt an \\nInnovative \\nAI-driven Streamlit app with LLM, OpenAI for\\nprecise resume analysis and suggestions. Integrated Selenium for\\ndynamic LinkedIn data extraction, enhancing career insights. \\nAI excels in resume analysis - summarizing, strengths, weaknesses,',\n",
       " 'precise resume analysis and suggestions. Integrated Selenium for\\ndynamic LinkedIn data extraction, enhancing career insights. \\nAI excels in resume analysis - summarizing, strengths, weaknesses,\\nand suggesting job titles. Leveraging Selenium for LinkedIn data, it\\nstreamlines job searches for comprehensive career insights. \\nTools: Python, LLM, OpenAI, Selenium, Streamlit, Numpy, Pandas.\\n \\ngithub.com/gopiashokan/AI-Resume-Analyzer-LinkedIn-Scraper.git\\n \\nRetail Sales Forecast \\nImplemented ML for precise retail sales predictions, emphasizing\\npreprocessing and algorithm selection. Streamlined Streamlit app\\nintegrates EDA, \\noptimizing decision-making in dynamic retail.',\n",
       " 'Implemented ML for precise retail sales predictions, emphasizing\\npreprocessing and algorithm selection. Streamlined Streamlit app\\nintegrates EDA, \\noptimizing decision-making in dynamic retail. \\nRevolutionized retail decisions with advanced ML, using a streamlit\\napplication integrating EDA for precise sales forecasts, \\nfeature\\ncomparison & actionable insights by identifying trends & patterns. \\nTools: Python, \\nsklearn, PostgreSQL, Streamlit, Numpy, Pandas, Plotly,\\nMatplotlib, Seaborn.\\n \\nhttps://github.com/gopiashokan/Retail-Sales-Forecast.git\\n \\nIndustrial Copper Modeling \\nLeveraged advanced ML regression models for precise pricing and\\nclassiﬁcation, enhancing targeted customer engagement by',\n",
       " 'Industrial Copper Modeling \\nLeveraged advanced ML regression models for precise pricing and\\nclassiﬁcation, enhancing targeted customer engagement by\\npredicting potential customers in the copper industry landscape. \\nExpert in data preprocessing, feature engineering, cross-validation,\\nhyperparameter tuning, and Streamlit app development, \\nskillfully\\napplying the skills to solve real-world manufacturing challenges. \\nTools: Python, sklearn, Streamlit, Matplotlib,Seaborn, Numpy,Pandas.\\n \\ngithub.com/gopiashokan/Industrial-Copper-Modeling.git\\n \\nAirbnb Analysis \\nLeverage Streamlit for dynamic exploratory data analysis (EDA)\\nwith interactive charts. Extend insights through a comprehensive',\n",
       " 'Airbnb Analysis \\nLeverage Streamlit for dynamic exploratory data analysis (EDA)\\nwith interactive charts. Extend insights through a comprehensive\\nTableau dashboard, uncovering trends and patterns in the dataset. \\nAnalyzed pricing dynamics & availability patterns in the Hospitality\\nsector, enabling informed decision-making and empowering\\nstakeholders to make choices based on insights and visualizations. \\nTools: Python, MongoDB, PostgreSQL, Tableau, Streamlit, Plotly,\\nPandas.\\n \\ngithub.com/gopiashokan/Airbnb-Analysis.git']"
      ]
     },
     "execution_count": 64,
     "metadata": {},
     "output_type": "execute_result"
    }
   ],
   "source": [
    "# Split the long text into small chunks\n",
    "text_splitter = RecursiveCharacterTextSplitter(chunk_size=700,\n",
    "                                               chunk_overlap=200,\n",
    "                                               length_function=len)\n",
    "\n",
    "chunks = text_splitter.split_text(text=text)\n",
    "chunks"
   ]
  },
  {
   "cell_type": "code",
   "execution_count": 65,
   "metadata": {},
   "outputs": [
    {
     "data": {
      "text/plain": [
       "'GOPINATH ASOKAN \\nData Science Enthusiast \\nPassionate data science enthusiast with a strong foundation in diverse industries. Equipped with 5+ years\\nof industry experience, highly skilled in problem-solving, and project management. Eager to seamlessly\\nmerge analytical skills with artistic expertise for impactful insights and innovation. Excited to apply data-\\ndriven strategies to challenges, contribute proactively and eﬀectively to the ﬁeld, and drive innovation. \\ngopiashokankiot@gmail.com \\nlinkedin.com/in/gopiashokan \\ngithub.com/gopiashokan \\nWORK EXPERIENCE \\nSenior Process Executive - Operations \\nMahendra Next Wealth IT India Pvt Ltd \\n05/2019 - 12/2022\\n, \\n \\nNamakkal'"
      ]
     },
     "execution_count": 65,
     "metadata": {},
     "output_type": "execute_result"
    }
   ],
   "source": [
    "chunks[0]"
   ]
  },
  {
   "cell_type": "code",
   "execution_count": 66,
   "metadata": {},
   "outputs": [
    {
     "data": {
      "text/plain": [
       "\"linkedin.com/in/gopiashokan \\ngithub.com/gopiashokan \\nWORK EXPERIENCE \\nSenior Process Executive - Operations \\nMahendra Next Wealth IT India Pvt Ltd \\n05/2019 - 12/2022\\n, \\n \\nNamakkal \\nProﬁciently executed image editing tasks for bigbasket's\\nproduct images, encompassing renaming, retouching, \\ncolor\\ncorrection, content cropping, and photo manipulation. \\nExpertly designed captivating banners and creatives for\\nadvertisements, skillfully integrating combo packs, multi-\\npacks, and hero images into Bigbasket's product pages. \\nContributed to taxonomy by mapping tax codes, manually\\nidentiﬁed competitor products, and veriﬁed AI-generated\\noutputs for accuracy, assisting in AI improvement eﬀorts.\""
      ]
     },
     "execution_count": 66,
     "metadata": {},
     "output_type": "execute_result"
    }
   ],
   "source": [
    "chunks[1]"
   ]
  },
  {
   "cell_type": "markdown",
   "metadata": {},
   "source": [
    "\"linkedin.com/in/gopiashokan \\ngithub.com/gopiashokan \\nWORK EXPERIENCE \\nSenior Process Executive - Operations \\nMahendra Next Wealth IT India Pvt Ltd \\n05/2019 - 12/2022\\n, \\n \\nNamakkal\"\n",
    "\n",
    "The above text is common(overlap) for both chunks[0] and chunks[1].\n",
    "(chunk_overlap=200 - maximum length, it means length is not exceed 200)"
   ]
  },
  {
   "cell_type": "code",
   "execution_count": 7,
   "metadata": {},
   "outputs": [],
   "source": [
    "openai_api_key = input('Enter you OpenAI API Key: ')"
   ]
  },
  {
   "cell_type": "code",
   "execution_count": 52,
   "metadata": {},
   "outputs": [],
   "source": [
    "def openai(openai_api_key, chunks, analyze):\n",
    "\n",
    "    # Using OpenAI service for embedding\n",
    "    embeddings = OpenAIEmbeddings(openai_api_key=openai_api_key)\n",
    "\n",
    "    # Facebook AI Similarity Serach library help us to convert text data to numerical vector\n",
    "    vectorstores = FAISS.from_texts(chunks, embedding=embeddings)\n",
    "\n",
    "    # compares the query and chunks, enabling the selection of the top 'K' most similar chunks based on their similarity scores.\n",
    "    docs = vectorstores.similarity_search(query=analyze, k=3)\n",
    "\n",
    "    # creates an OpenAI object, using the ChatGPT 3.5 Turbo model\n",
    "    llm = ChatOpenAI(model='gpt-3.5-turbo', api_key=openai_api_key)\n",
    "\n",
    "    # question-answering (QA) pipeline, making use of the load_qa_chain function\n",
    "    chain = load_qa_chain(llm=llm, chain_type='stuff')\n",
    "\n",
    "    response = chain.run(input_documents=docs, question=analyze)\n",
    "    return response"
   ]
  },
  {
   "cell_type": "code",
   "execution_count": 55,
   "metadata": {},
   "outputs": [
    {
     "name": "stdout",
     "output_type": "stream",
     "text": [
      "The resume belongs to Gopinath Asokan, who is a data science enthusiast with a strong foundation in diverse industries. He has 5+ years of industry experience and is highly skilled in problem-solving and project management. Gopinath is eager to merge his analytical skills with artistic expertise for impactful insights and innovation. He is excited to apply data-driven strategies to challenges and contribute proactively to the field. \n",
      "\n",
      "In terms of work experience, Gopinath has worked as a Senior Process Executive - Operations at Mahendra Next Wealth IT India Pvt Ltd from 05/2019 to 12/2022. He was responsible for precise resume analysis and suggestions, as well as integrating Selenium for dynamic LinkedIn data extraction. He also implemented machine learning for precise retail sales predictions, emphasizing preprocessing and algorithm selection.\n",
      "\n",
      "Gopinath has also worked as an Associate Engineer - Quality at Rudra Blades and Edges Pvt Ltd from 07/2018 to 12/2018. He performed continuous and comprehensive material analysis to ensure structural integrity and maintained high-quality standards at critical stations.\n",
      "\n",
      "Furthermore, Gopinath worked as a Graduate Engineer Trainee - Quality at Lear Automotive India Pvt Ltd from 07/2016 to 07/2017. He efficiently managed productive customer meetings and maintained stock alignment.\n",
      "\n",
      "In terms of education, Gopinath has a Master's degree in Data Science from GUVI Geeks Network Pvt Ltd (expected completion in 2023) and a Bachelor's degree in Mechanical Engineering from Knowledge Institute of Technology (2012-2016).\n",
      "\n",
      "Gopinath possesses a wide range of technical skills, including Python, PostgreSQL, MongoDB, Tableau, PowerBI, Machine Learning, Deep Learning, NLP, LLM, OpenAI, Selenium, Airflow, Hadoop, PySpark, OCR, Numpy, Pandas, Streamlit, Plotly, Matplotlib, and Seaborn.\n",
      "\n",
      "He has also completed the Microsoft AI-900 Azure AI Fundamentals certificate.\n",
      "\n",
      "Gopinath has worked on several projects, including an AI Resume Analyzer and LinkedIn Scraper with Selenium, a Retail Sales Forecast using ML, Industrial Copper Modeling using ML, and Airbnb Analysis using Streamlit and Tableau.\n",
      "\n",
      "In conclusion, Gopinath Asokan is a highly skilled data science enthusiast with a diverse industry background. He has experience in resume analysis, retail sales predictions, and quality assurance. He is proficient in various technical skills and has completed relevant certifications. Gopinath has also worked on several data science projects, showcasing his expertise in machine learning and analysis.\n"
     ]
    }
   ],
   "source": [
    "def resume_summary(query_with_chunks):\n",
    "    query = f''' need to detailed summarization of below resume and finally conclude them\n",
    "\n",
    "                \"\"\"\"\"\"\"\"\"\"\"\"\"\"\"\"\"\"\"\"\"\"\"\"\"\"\"\"\"\"\"\"\"\"\"\"\"\"\"\"\"\"\"\"\"\"\"\"\"\"\"\"\"\"\"\"\"\"\"\"\"\"\"\"\"\"\"\"\"\"\"\n",
    "                {query_with_chunks}\n",
    "                \"\"\"\"\"\"\"\"\"\"\"\"\"\"\"\"\"\"\"\"\"\"\"\"\"\"\"\"\"\"\"\"\"\"\"\"\"\"\"\"\"\"\"\"\"\"\"\"\"\"\"\"\"\"\"\"\"\"\"\"\"\"\"\"\"\"\"\"\"\"\"\n",
    "                '''\n",
    "    return query\n",
    "\n",
    "summary = resume_summary(query_with_chunks=chunks)\n",
    "summary_result = openai(openai_api_key=openai_api_key, chunks=chunks, analyze=summary)\n",
    "print(summary_result)"
   ]
  },
  {
   "cell_type": "code",
   "execution_count": 56,
   "metadata": {},
   "outputs": [
    {
     "name": "stdout",
     "output_type": "stream",
     "text": [
      "Strengths of Gopinath Asokan's resume:\n",
      "\n",
      "1. Strong foundation in diverse industries: Gopinath's resume highlights his experience and expertise in various industries, showcasing his adaptability and ability to work in different environments.\n",
      "\n",
      "2. 5+ years of industry experience: Gopinath's extensive experience in the industry demonstrates his ability to handle real-world challenges and shows his level of expertise in the field.\n",
      "\n",
      "3. Strong problem-solving and project management skills: Gopinath's resume emphasizes his skills in problem-solving and project management, which are crucial in the field of data science. This indicates his ability to effectively handle complex problems and successfully manage projects.\n",
      "\n",
      "4. Analytical skills combined with artistic expertise: Gopinath's resume mentions his eagerness to merge his analytical skills with artistic expertise, indicating his ability to think creatively and produce impactful insights and innovations.\n",
      "\n",
      "5. Data-driven strategies: Gopinath's excitement to apply data-driven strategies to challenges shows his understanding of the importance of data analysis in decision-making and problem-solving.\n",
      "\n",
      "6. Proficient in technical skills: Gopinath possesses a wide range of technical skills, including Python, machine learning, NLP, Selenium, and more. This showcases his ability to utilize various tools and technologies to solve complex problems and deliver high-quality work.\n",
      "\n",
      "7. Relevant certifications: Gopinath's completion of the Microsoft AI-900 Azure AI Fundamentals certificate demonstrates his commitment to continuous learning and staying up-to-date with the latest technologies and advancements in the field of data science.\n",
      "\n",
      "8. Experienced in various projects: Gopinath's experience in projects such as AI Resume Analyzer and LinkedIn Scraper, Retail Sales Forecast using ML, and Industrial Copper Modeling using ML showcases his practical application of data science techniques and his ability to deliver successful projects.\n",
      "\n",
      "In conclusion, Gopinath Asokan's resume exhibits strengths in his industry experience, problem-solving skills, technical expertise, and project management abilities. His diverse background, eagerness to merge analytical and artistic skills, and relevant certifications make him a strong candidate in the field of data science.\n"
     ]
    }
   ],
   "source": [
    "def resume_strength(query_with_chunks):\n",
    "    query = f'''need to detailed analysis and explain of the strength of below resume and finally conclude them\n",
    "                \"\"\"\"\"\"\"\"\"\"\"\"\"\"\"\"\"\"\"\"\"\"\"\"\"\"\"\"\"\"\"\"\"\"\"\"\"\"\"\"\"\"\"\"\"\"\"\"\"\"\"\"\"\"\"\"\"\"\"\"\"\"\"\"\"\"\"\"\"\"\"\n",
    "                {query_with_chunks}\n",
    "                \"\"\"\"\"\"\"\"\"\"\"\"\"\"\"\"\"\"\"\"\"\"\"\"\"\"\"\"\"\"\"\"\"\"\"\"\"\"\"\"\"\"\"\"\"\"\"\"\"\"\"\"\"\"\"\"\"\"\"\"\"\"\"\"\"\"\"\"\"\"\"\n",
    "                '''\n",
    "    return query\n",
    "\n",
    "strength = resume_strength(query_with_chunks=summary_result)\n",
    "strength_result = openai(openai_api_key=openai_api_key, chunks=chunks, analyze=strength)\n",
    "print(strength_result)"
   ]
  },
  {
   "cell_type": "code",
   "execution_count": 60,
   "metadata": {},
   "outputs": [
    {
     "name": "stdout",
     "output_type": "stream",
     "text": [
      "Based on the provided resume details, Gopinath Asokan has a strong foundation in diverse industries and is highly skilled in problem-solving and project management. However, there are a few weaknesses in the resume that can be improved:\n",
      "\n",
      "1. Lack of a clear career objective: The resume does not mention a specific career objective or goal. It would be beneficial to include a clear and concise objective statement that highlights Gopinath's career aspirations and how his skills and experience align with those goals.\n",
      "\n",
      "2. Incomplete work experience details: While the resume mentions Gopinath's job titles and responsibilities, it does not provide specific accomplishments or achievements in each role. Adding quantifiable achievements or results-oriented statements would strengthen the resume and demonstrate Gopinath's impact in previous positions.\n",
      "\n",
      "3. Limited information on education: The resume briefly mentions Gopinath's educational background, but it lacks details on specific coursework or projects related to data science. Including relevant coursework, research projects, or any notable academic achievements would enhance the resume's credibility and showcase Gopinath's academic abilities.\n",
      "\n",
      "4. Lack of focus on key technical skills: Although the resume mentions a wide range of technical skills, it does not highlight which skills are most relevant to the data science field. It would be helpful to prioritize and emphasize the key technical skills that directly align with the desired job roles in data science.\n",
      "\n",
      "To improve the resume, consider the following suggestions:\n",
      "\n",
      "1. Start with a strong career objective statement that clearly communicates Gopinath's goals and how his skills and experience align with those goals.\n",
      "\n",
      "2. Include specific accomplishments and achievements in each work experience entry, highlighting the impact Gopinath made in previous roles. Use quantitative metrics whenever possible to showcase results.\n",
      "\n",
      "3. Provide more details on relevant coursework, research projects, or academic achievements related to data science during Gopinath's Master's degree program.\n",
      "\n",
      "4. Prioritize and highlight the key technical skills that directly align with data science roles. Consider creating a separate section dedicated to technical skills, showcasing proficiency and experience in those areas.\n",
      "\n",
      "5. Consider including any relevant certifications, online courses, or workshops related to data science or machine learning.\n",
      "\n",
      "By addressing these weaknesses and implementing these improvements, Gopinath Asokan can create a stronger and more impactful resume that highlights his skills, experience, and potential in the field of data science.\n"
     ]
    }
   ],
   "source": [
    "def resume_weakness(query_with_chunks):\n",
    "    query = f'''need to detailed analysis and explain of the weakness of below resume and how to improve make a better resume.\n",
    "\n",
    "                \"\"\"\"\"\"\"\"\"\"\"\"\"\"\"\"\"\"\"\"\"\"\"\"\"\"\"\"\"\"\"\"\"\"\"\"\"\"\"\"\"\"\"\"\"\"\"\"\"\"\"\"\"\"\"\"\"\"\"\"\"\"\"\"\"\"\"\"\"\"\"\n",
    "                {query_with_chunks}\n",
    "                \"\"\"\"\"\"\"\"\"\"\"\"\"\"\"\"\"\"\"\"\"\"\"\"\"\"\"\"\"\"\"\"\"\"\"\"\"\"\"\"\"\"\"\"\"\"\"\"\"\"\"\"\"\"\"\"\"\"\"\"\"\"\"\"\"\"\"\"\"\"\"\n",
    "                '''\n",
    "    return query\n",
    "\n",
    "weakness = resume_weakness(query_with_chunks=summary_result)\n",
    "result_weakness = openai(openai_api_key=openai_api_key, chunks=chunks, analyze=weakness)\n",
    "print(result_weakness)"
   ]
  },
  {
   "cell_type": "code",
   "execution_count": 61,
   "metadata": {},
   "outputs": [
    {
     "name": "stdout",
     "output_type": "stream",
     "text": [
      "Based on the information provided, some potential job roles that Gopinath Asokan could apply to on LinkedIn include:\n",
      "\n",
      "1. Data Scientist\n",
      "2. Data Analyst\n",
      "3. Machine Learning Engineer\n",
      "4. Business Analyst\n",
      "5. Project Manager\n",
      "6. Operations Analyst\n",
      "7. Quality Assurance Engineer\n",
      "8. Sales Analyst\n",
      "9. AI Engineer\n",
      "10. Retail Analyst\n",
      "\n",
      "These job roles align with Gopinath's skills and experience in data science, problem-solving, project management, resume analysis, retail sales forecasting, and quality assurance.\n"
     ]
    }
   ],
   "source": [
    "def job_title_suggestion(query_with_chunks):\n",
    "\n",
    "    query = f''' what are the job roles i apply to likedin based on below?\n",
    "                  \n",
    "                  \"\"\"\"\"\"\"\"\"\"\"\"\"\"\"\"\"\"\"\"\"\"\"\"\"\"\"\"\"\"\"\"\"\"\"\"\"\"\"\"\"\"\"\"\"\"\"\"\"\"\"\"\"\"\"\"\"\"\"\"\"\"\"\"\"\"\"\"\"\"\"\n",
    "                  {query_with_chunks}\n",
    "                  \"\"\"\"\"\"\"\"\"\"\"\"\"\"\"\"\"\"\"\"\"\"\"\"\"\"\"\"\"\"\"\"\"\"\"\"\"\"\"\"\"\"\"\"\"\"\"\"\"\"\"\"\"\"\"\"\"\"\"\"\"\"\"\"\"\"\"\"\"\"\"\n",
    "                '''\n",
    "    return query\n",
    "\n",
    "suggestion = job_title_suggestion(query_with_chunks=summary_result)\n",
    "result_suggestion = openai(openai_api_key=openai_api_key, chunks=chunks, analyze=suggestion)\n",
    "print(result_suggestion)"
   ]
  },
  {
   "cell_type": "code",
   "execution_count": null,
   "metadata": {},
   "outputs": [],
   "source": []
  }
 ],
 "metadata": {
  "kernelspec": {
   "display_name": "Python 3",
   "language": "python",
   "name": "python3"
  },
  "language_info": {
   "codemirror_mode": {
    "name": "ipython",
    "version": 3
   },
   "file_extension": ".py",
   "mimetype": "text/x-python",
   "name": "python",
   "nbconvert_exporter": "python",
   "pygments_lexer": "ipython3",
   "version": "3.11.6"
  },
  "orig_nbformat": 4
 },
 "nbformat": 4,
 "nbformat_minor": 2
}
